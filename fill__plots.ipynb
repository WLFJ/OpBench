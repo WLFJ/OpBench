{
 "cells": [
  {
   "cell_type": "markdown",
   "id": "a3f467b7",
   "metadata": {},
   "source": [
    "# Broadcast 性能报告图表"
   ]
  },
  {
   "cell_type": "markdown",
   "id": "cd3ee632",
   "metadata": {},
   "source": [
    "要求如下：\n",
    "- 性能图：体现不同parameter配置下的运行时间【横坐标：parameter（10个），纵坐标：时间】\n",
    "- 不同flops下的性能图【计算密集型算子】【横坐标：flops section（去除小数点），纵坐标：count】\n",
    "- 不同型号GPU上的性能对比"
   ]
  },
  {
   "cell_type": "markdown",
   "id": "11151965",
   "metadata": {},
   "source": [
    "读入数据，我们起码需要time and flops"
   ]
  },
  {
   "cell_type": "code",
   "execution_count": 16,
   "id": "a047e038",
   "metadata": {
    "scrolled": false
   },
   "outputs": [],
   "source": [
    "import pandas as pd\n",
    "import csv\n",
    "import json\n",
    "import functools\n",
    "\n",
    "op = 'fill_'\n",
    "device = 'A100'\n",
    "# 目前已测试的芯片\n",
    "device_list = ['A100', 'P100', 'T4']\n",
    "\n",
    "def calc_mflops(data):\n",
    "    if 'Mflops' in data.columns:\n",
    "        del data['Mflops']\n",
    "        \n",
    "    def op_flops_calc(row):\n",
    "        args = row['parameters']\n",
    "        args = args.replace('\\'', '\\\"')\n",
    "        args_list = json.loads(args)\n",
    "\n",
    "        if len(args_list['input_size'][0]):\n",
    "            time_in_sec = float(row[4])\n",
    "            # 数据量计算，需要根据实际情况实现\n",
    "            size = functools.reduce(lambda a, b: a * b, args_list['input_size'][0])\n",
    "            return float(size * 1.0 * 1e-6 / time_in_sec)\n",
    "        \n",
    "    data.loc[:,\"Mflops\"] = data.apply(op_flops_calc,axis = 1)\n",
    "    return data\n",
    "\n",
    "def get_data_by_dev(_device):\n",
    "    return calc_mflops(pd.read_csv(f\"{_device}/{op}_top10.csv\"))\n",
    "\n",
    "data = get_data_by_dev(device)\n",
    "\n",
    "def para_flops(data=data, topK=10):\n",
    "    '''\n",
    "    我们应该将哪些数据分类呢？出现次数最多的topK\n",
    "    '''\n",
    "    g = data.groupby(by='parameters')\n",
    "    labels = g.size().reset_index(name='count')\\\n",
    "        .sort_values(by=['count'],ascending=(False)).head(topK)\n",
    "    res = labels.join(data.groupby(by='parameters').agg({'Mflops': 'mean', 'running_time': 'mean'}), on='parameters')\n",
    "    print(\"Here's parameter we use:\\n\", res['parameters'])\n",
    "    return res"
   ]
  },
  {
   "cell_type": "markdown",
   "id": "e860a8c6",
   "metadata": {},
   "source": [
    "## 性能图(parameter - FLOPs) broken"
   ]
  },
  {
   "cell_type": "code",
   "execution_count": 17,
   "id": "5b41d008",
   "metadata": {
    "scrolled": false
   },
   "outputs": [
    {
     "name": "stdout",
     "output_type": "stream",
     "text": [
      "Here's parameter we use:\n",
      " 38    {'input_size': [[256]], 'value': [[1]], 'dtype...\n",
      "14    {'input_size': [[128]], 'value': [[1]], 'dtype...\n",
      "62    {'input_size': [[64]], 'value': [[1]], 'dtype'...\n",
      "37    {'input_size': [[256]], 'value': [[1.0]], 'dty...\n",
      "36    {'input_size': [[256]], 'value': [[0]], 'dtype...\n",
      "54    {'input_size': [[512]], 'value': [[1]], 'dtype...\n",
      "61    {'input_size': [[64]], 'value': [[1.0]], 'dtyp...\n",
      "53    {'input_size': [[512]], 'value': [[1.0]], 'dty...\n",
      "13    {'input_size': [[128]], 'value': [[1.0]], 'dty...\n",
      "52    {'input_size': [[512]], 'value': [[0]], 'dtype...\n",
      "Name: parameters, dtype: object\n",
      "38    44.187737\n",
      "14    21.234299\n",
      "62    11.076262\n",
      "37    44.673097\n",
      "36    45.014585\n",
      "54    90.256162\n",
      "61    11.297601\n",
      "53    90.512013\n",
      "13    22.476478\n",
      "52    87.648810\n",
      "Name: Mflops, dtype: float64\n"
     ]
    },
    {
     "data": {
      "image/png": "[encoded data removed]",
      "text/plain": [
       "<Figure size 432x288 with 1 Axes>"
      ]
     },
     "metadata": {
      "needs_background": "light"
     },
     "output_type": "display_data"
    }
   ],
   "source": [
    "import matplotlib\n",
    "import matplotlib.pyplot as plt\n",
    "import numpy as np\n",
    "\n",
    "'''\n",
    "data config\n",
    "'''\n",
    "flops = para_flops()['Mflops']\n",
    "print(flops)\n",
    "labels = [f'#{i}' for i in range(len(flops))]\n",
    "'''\n",
    "data config end\n",
    "'''\n",
    "\n",
    "barlabel = True\n",
    "\n",
    "plt.rcParams['font.sans-serif'] = ['Times New Roman']\n",
    "matplotlib.rcParams['font.sans-serif'] = ['Times New Roman']\n",
    "matplotlib.rcParams['axes.unicode_minus'] = False\n",
    "params = {'font.family':'serif',\n",
    "    'font.serif': 'Times New Roman',\n",
    "   # 'font.style': 'italic',\n",
    "    'font.weight': 'normal',  # or 'blod'\n",
    "   # 'font.size': '12',  # or large,small\n",
    "}\n",
    "plt.rcParams.update(params)\n",
    "\n",
    "x = np.arange(len(flops))\n",
    "width = 0.6\n",
    "\n",
    "fig, ax1 = plt.subplots()\n",
    "\n",
    "rects1 = ax1.bar(x, flops, width, label=device, edgecolor='black')\n",
    "\n",
    "fig.text(0, 0.5, 'Performance (MFLOPs)', va='center', rotation='vertical')\n",
    "plt.suptitle('Performance Under Different Parameters', x=0.525, y=.95, horizontalalignment='center')\n",
    "ax1.set_xticks(x, labels)\n",
    "ax1.set_ylim(0, 100)\n",
    "\n",
    "if barlabel:\n",
    "    ax1.bar_label(rects1, padding=3)\n",
    "\n",
    "fig.tight_layout()\n",
    "\n",
    "plt.show()"
   ]
  },
  {
   "cell_type": "markdown",
   "id": "ca7978b1",
   "metadata": {},
   "source": [
    "## 性能图（parameter-time）not broken"
   ]
  },
  {
   "cell_type": "code",
   "execution_count": 18,
   "id": "3f56e7d0",
   "metadata": {},
   "outputs": [
    {
     "name": "stdout",
     "output_type": "stream",
     "text": [
      "Here's parameter we use:\n",
      " 38    {'input_size': [[256]], 'value': [[1]], 'dtype...\n",
      "14    {'input_size': [[128]], 'value': [[1]], 'dtype...\n",
      "62    {'input_size': [[64]], 'value': [[1]], 'dtype'...\n",
      "37    {'input_size': [[256]], 'value': [[1.0]], 'dty...\n",
      "36    {'input_size': [[256]], 'value': [[0]], 'dtype...\n",
      "54    {'input_size': [[512]], 'value': [[1]], 'dtype...\n",
      "61    {'input_size': [[64]], 'value': [[1.0]], 'dtyp...\n",
      "53    {'input_size': [[512]], 'value': [[1.0]], 'dty...\n",
      "13    {'input_size': [[128]], 'value': [[1.0]], 'dty...\n",
      "52    {'input_size': [[512]], 'value': [[0]], 'dtype...\n",
      "Name: parameters, dtype: object\n",
      "Here's parameter we use:\n",
      " 38    {'input_size': [[256]], 'value': [[1]], 'dtype...\n",
      "14    {'input_size': [[128]], 'value': [[1]], 'dtype...\n",
      "62    {'input_size': [[64]], 'value': [[1]], 'dtype'...\n",
      "37    {'input_size': [[256]], 'value': [[1.0]], 'dty...\n",
      "36    {'input_size': [[256]], 'value': [[0]], 'dtype...\n",
      "54    {'input_size': [[512]], 'value': [[1]], 'dtype...\n",
      "61    {'input_size': [[64]], 'value': [[1.0]], 'dtyp...\n",
      "53    {'input_size': [[512]], 'value': [[1.0]], 'dty...\n",
      "13    {'input_size': [[128]], 'value': [[1.0]], 'dty...\n",
      "52    {'input_size': [[512]], 'value': [[0]], 'dtype...\n",
      "Name: parameters, dtype: object\n",
      "config we use:\n",
      " 38    {'input_size': [[256]], 'value': [[1]], 'dtype...\n",
      "14    {'input_size': [[128]], 'value': [[1]], 'dtype...\n",
      "62    {'input_size': [[64]], 'value': [[1]], 'dtype'...\n",
      "37    {'input_size': [[256]], 'value': [[1.0]], 'dty...\n",
      "36    {'input_size': [[256]], 'value': [[0]], 'dtype...\n",
      "54    {'input_size': [[512]], 'value': [[1]], 'dtype...\n",
      "61    {'input_size': [[64]], 'value': [[1.0]], 'dtyp...\n",
      "53    {'input_size': [[512]], 'value': [[1.0]], 'dty...\n",
      "13    {'input_size': [[128]], 'value': [[1.0]], 'dty...\n",
      "52    {'input_size': [[512]], 'value': [[0]], 'dtype...\n",
      "Name: parameters, dtype: object\n"
     ]
    },
    {
     "data": {
      "image/png": "[encoded data removed]",
      "text/plain": [
       "<Figure size 432x288 with 1 Axes>"
      ]
     },
     "metadata": {
      "needs_background": "light"
     },
     "output_type": "display_data"
    }
   ],
   "source": [
    "import matplotlib.pyplot as plt\n",
    "import numpy as np\n",
    "\n",
    "\n",
    "'''\n",
    "data config\n",
    "'''\n",
    "time = para_flops()['running_time'] * 1000 * 1000\n",
    "labels = [f'#{i}' for i in range(len(time))]\n",
    "print('config we use:\\n', para_flops()['parameters'])\n",
    "'''\n",
    "data config end\n",
    "'''\n",
    "\n",
    "x = np.arange(len(labels))  # the label locations\n",
    "width = 0.6  # the width of the bars\n",
    "\n",
    "fig, ax = plt.subplots()\n",
    "rects = ax.bar(x, time, width, label='A100', edgecolor='black')\n",
    "ax.set_ylim(0, 7.5)\n",
    "\n",
    "# Add some text for labels, title and custom x-axis tick labels, etc.\n",
    "ax.set_ylabel('Time (us)')\n",
    "plt.suptitle('Performance Under Different Parameters', x=0.55, y=.95, horizontalalignment='center')\n",
    "ax.set_xticks(x, labels, text='%.2f')\n",
    "\n",
    "ax.bar_label(rects, padding=3)\n",
    "\n",
    "fig.tight_layout()\n",
    "\n",
    "plt.show()"
   ]
  },
  {
   "cell_type": "markdown",
   "id": "02fa391d",
   "metadata": {},
   "source": [
    "## 性能图（section-count）"
   ]
  },
  {
   "cell_type": "code",
   "execution_count": 19,
   "id": "171fef9a",
   "metadata": {},
   "outputs": [
    {
     "name": "stdout",
     "output_type": "stream",
     "text": [
      "0      0.005517\n",
      "1      0.016728\n",
      "2      0.033429\n",
      "3      0.172221\n",
      "4      0.033086\n",
      "         ...   \n",
      "181    0.090535\n",
      "182    0.046004\n",
      "183    0.011227\n",
      "184    0.011129\n",
      "185    0.022277\n",
      "Name: Mflops, Length: 186, dtype: float64\n"
     ]
    },
    {
     "data": {
      "image/png": "[encoded data removed]",
      "text/plain": [
       "<Figure size 432x288 with 2 Axes>"
      ]
     },
     "metadata": {
      "needs_background": "light"
     },
     "output_type": "display_data"
    }
   ],
   "source": [
    "import matplotlib\n",
    "import matplotlib.pyplot as plt\n",
    "import numpy as np\n",
    "\n",
    "'''\n",
    "data config\n",
    "'''\n",
    "flops = data['Mflops'] / 1000 # GFLOPs\n",
    "print(flops)\n",
    "'''\n",
    "data config end\n",
    "'''\n",
    "\n",
    "# most data at A\n",
    "A = (0, 5)\n",
    "# outlines\n",
    "B = (170, 188)\n",
    "\n",
    "barlabel = True\n",
    "\n",
    "plt.rcParams['font.sans-serif'] = ['Times New Roman']\n",
    "matplotlib.rcParams['font.sans-serif'] = ['Times New Roman']\n",
    "matplotlib.rcParams['axes.unicode_minus'] = False\n",
    "params = {'font.family':'serif',\n",
    "    'font.serif': 'Times New Roman',\n",
    "   # 'font.style': 'italic',\n",
    "    'font.weight': 'normal',  # or 'blod'\n",
    "   # 'font.size': '12',  # or large,small\n",
    "}\n",
    "plt.rcParams.update(params)\n",
    "\n",
    "x = np.arange(len(flops))\n",
    "width = 0.6\n",
    "\n",
    "fig, (ax1, ax2) = plt.subplots(2, 1, sharex=True)\n",
    "\n",
    "rects1 = ax1.hist(flops, edgecolor='black')\n",
    "rects2 = ax2.hist(flops, edgecolor='black')\n",
    "\n",
    "ax1.set_ylim(*B)  # outliers only\n",
    "ax2.set_ylim(*A)  # most of the data\n",
    "\n",
    "# hide the spines between ax and ax2\n",
    "ax1.spines.bottom.set_visible(False)\n",
    "ax2.spines.top.set_visible(False)\n",
    "ax1.xaxis.tick_top()\n",
    "ax1.tick_params(labeltop=False)  # don't put tick labels at the top\n",
    "ax2.xaxis.tick_bottom()\n",
    "\n",
    "fig.text(0, 0.5, 'Count', va='center', rotation='vertical')\n",
    "plt.suptitle('Performance Count', x=0.525, y=.95, horizontalalignment='center')\n",
    "# ax1.set_xticks(x, labels)\n",
    "\n",
    "d = 0.5  # proportion of vertical to horizontal extent of the slanted line\n",
    "kwargs = dict(marker=[(-1, -d), (1, d)], markersize=8,\n",
    "              linestyle=\"none\", color='k', mec='k', mew=1, clip_on=False)\n",
    "ax1.plot([0, 1], [0, 0], transform=ax1.transAxes, **kwargs)\n",
    "ax2.plot([0, 1], [1, 1], transform=ax2.transAxes, **kwargs)\n",
    "\n",
    "fig.tight_layout()\n",
    "\n",
    "plt.show()"
   ]
  },
  {
   "cell_type": "markdown",
   "id": "756822f8",
   "metadata": {},
   "source": [
    "## 对比图（parameter-time）"
   ]
  },
  {
   "cell_type": "code",
   "execution_count": 20,
   "id": "2fb9341d",
   "metadata": {},
   "outputs": [
    {
     "name": "stdout",
     "output_type": "stream",
     "text": [
      "Here's parameter we use:\n",
      " 38    {'input_size': [[256]], 'value': [[1]], 'dtype...\n",
      "14    {'input_size': [[128]], 'value': [[1]], 'dtype...\n",
      "62    {'input_size': [[64]], 'value': [[1]], 'dtype'...\n",
      "37    {'input_size': [[256]], 'value': [[1.0]], 'dty...\n",
      "36    {'input_size': [[256]], 'value': [[0]], 'dtype...\n",
      "Name: parameters, dtype: object\n",
      "Here's parameter we use:\n",
      " 38    {'input_size': [[256]], 'value': [[1]], 'dtype...\n",
      "14    {'input_size': [[128]], 'value': [[1]], 'dtype...\n",
      "62    {'input_size': [[64]], 'value': [[1]], 'dtype'...\n",
      "37    {'input_size': [[256]], 'value': [[1.0]], 'dty...\n",
      "36    {'input_size': [[256]], 'value': [[0]], 'dtype...\n",
      "Name: parameters, dtype: object\n",
      "Here's parameter we use:\n",
      " 38    {'input_size': [[256]], 'value': [[1]], 'dtype...\n",
      "14    {'input_size': [[128]], 'value': [[1]], 'dtype...\n",
      "62    {'input_size': [[64]], 'value': [[1]], 'dtype'...\n",
      "37    {'input_size': [[256]], 'value': [[1.0]], 'dty...\n",
      "36    {'input_size': [[256]], 'value': [[0]], 'dtype...\n",
      "Name: parameters, dtype: object\n"
     ]
    },
    {
     "data": {
      "image/png": "[encoded data removed]",
      "text/plain": [
       "<Figure size 432x288 with 1 Axes>"
      ]
     },
     "metadata": {
      "needs_background": "light"
     },
     "output_type": "display_data"
    }
   ],
   "source": [
    "import matplotlib.pyplot as plt\n",
    "import numpy as np\n",
    "\n",
    "labels = [f'#{i}' for i in range(5)]\n",
    "datas = [para_flops(get_data_by_dev(d), topK=5)['running_time'] * 1000 for d in device_list]\n",
    "\n",
    "x = np.arange(len(labels))  # the label locations\n",
    "width = 0.2  # the width of the bars\n",
    "\n",
    "fig, ax = plt.subplots()\n",
    "for i, (device, data) in enumerate(zip(device_list, datas)):\n",
    "    ax.bar(x + (-len(datas) + 2 * i + 1) * width/2, data, width, label=device, edgecolor='black')\n",
    "\n",
    "# Add some text for labels, title and custom x-axis tick labels, etc.\n",
    "ax.set_ylabel('Performance (ms)')\n",
    "plt.suptitle('(d) Performance Under Different Chips', x=0.55, y=.95, horizontalalignment='center')\n",
    "ax.set_xticks(x, labels)\n",
    "# ax.set_ylim(0, 40)\n",
    "ax.legend()\n",
    "\n",
    "fig.tight_layout()\n",
    "\n",
    "plt.savefig(f\"{op}_d.pdf\")"
   ]
  },
  {
   "cell_type": "markdown",
   "id": "5f080bd9",
   "metadata": {},
   "source": [
    "## 利用率线图（section-rate）"
   ]
  }
 ],
 "metadata": {
  "kernelspec": {
   "display_name": "Python 3 (ipykernel)",
   "language": "python",
   "name": "python3"
  },
  "language_info": {
   "codemirror_mode": {
    "name": "ipython",
    "version": 3
   },
   "file_extension": ".py",
   "mimetype": "text/x-python",
   "name": "python",
   "nbconvert_exporter": "python",
   "pygments_lexer": "ipython3",
   "version": "3.9.13"
  }
 },
 "nbformat": 4,
 "nbformat_minor": 5
}
